{
 "cells": [
  {
   "cell_type": "code",
   "execution_count": 36,
   "metadata": {},
   "outputs": [
    {
     "data": {
      "text/html": [
       "<div>\n",
       "<style scoped>\n",
       "    .dataframe tbody tr th:only-of-type {\n",
       "        vertical-align: middle;\n",
       "    }\n",
       "\n",
       "    .dataframe tbody tr th {\n",
       "        vertical-align: top;\n",
       "    }\n",
       "\n",
       "    .dataframe thead th {\n",
       "        text-align: right;\n",
       "    }\n",
       "</style>\n",
       "<table border=\"1\" class=\"dataframe\">\n",
       "  <thead>\n",
       "    <tr style=\"text-align: right;\">\n",
       "      <th></th>\n",
       "      <th>s</th>\n",
       "      <th>p</th>\n",
       "      <th>o</th>\n",
       "      <th>t</th>\n",
       "    </tr>\n",
       "  </thead>\n",
       "  <tbody>\n",
       "    <tr>\n",
       "      <th>0</th>\n",
       "      <td>a</td>\n",
       "      <td>b</td>\n",
       "      <td>c</td>\n",
       "      <td>(a, b, c)</td>\n",
       "    </tr>\n",
       "    <tr>\n",
       "      <th>1</th>\n",
       "      <td>a</td>\n",
       "      <td>e</td>\n",
       "      <td>f</td>\n",
       "      <td>(a, e, f)</td>\n",
       "    </tr>\n",
       "    <tr>\n",
       "      <th>2</th>\n",
       "      <td>a</td>\n",
       "      <td>h</td>\n",
       "      <td>i</td>\n",
       "      <td>(a, h, i)</td>\n",
       "    </tr>\n",
       "    <tr>\n",
       "      <th>3</th>\n",
       "      <td>b</td>\n",
       "      <td>2</td>\n",
       "      <td>(1, 2, 3)</td>\n",
       "      <td>(b, 2, (1, 2, 3))</td>\n",
       "    </tr>\n",
       "    <tr>\n",
       "      <th>4</th>\n",
       "      <td>b</td>\n",
       "      <td>2</td>\n",
       "      <td>(4, 5, 6)</td>\n",
       "      <td>(b, 2, (4, 5, 6))</td>\n",
       "    </tr>\n",
       "  </tbody>\n",
       "</table>\n",
       "</div>"
      ],
      "text/plain": [
       "   s  p          o                  t\n",
       "0  a  b          c          (a, b, c)\n",
       "1  a  e          f          (a, e, f)\n",
       "2  a  h          i          (a, h, i)\n",
       "3  b  2  (1, 2, 3)  (b, 2, (1, 2, 3))\n",
       "4  b  2  (4, 5, 6)  (b, 2, (4, 5, 6))"
      ]
     },
     "execution_count": 36,
     "metadata": {},
     "output_type": "execute_result"
    }
   ],
   "source": [
    "import pandas as pd\n",
    "\n",
    "triples = [ ( 'a', 'b', 'c' ), ( 'a', 'e', 'f' ), ( 'a', 'h', 'i' ), ( 'b', 2, ( 1, 2, 3 ) ), ( 'b', 2, ( 4, 5, 6 ) ) ]\n",
    "\n",
    "df = pd.DataFrame([ [ t[0], t[1], t[2], t ] for t in triples ], columns=list(\"spot\"))\n",
    "df\n",
    "\n",
    "# idx = pd.MultiIndex.from_tuples(triples, names=['s', 'p', 'o'])\n",
    "# series = series.reindex(idx)"
   ]
  },
  {
   "cell_type": "code",
   "execution_count": 37,
   "metadata": {},
   "outputs": [
    {
     "data": {
      "text/html": [
       "<div>\n",
       "<style scoped>\n",
       "    .dataframe tbody tr th:only-of-type {\n",
       "        vertical-align: middle;\n",
       "    }\n",
       "\n",
       "    .dataframe tbody tr th {\n",
       "        vertical-align: top;\n",
       "    }\n",
       "\n",
       "    .dataframe thead th {\n",
       "        text-align: right;\n",
       "    }\n",
       "</style>\n",
       "<table border=\"1\" class=\"dataframe\">\n",
       "  <thead>\n",
       "    <tr style=\"text-align: right;\">\n",
       "      <th></th>\n",
       "      <th>s</th>\n",
       "      <th>p</th>\n",
       "      <th>o</th>\n",
       "      <th>t</th>\n",
       "    </tr>\n",
       "  </thead>\n",
       "  <tbody>\n",
       "    <tr>\n",
       "      <th>3</th>\n",
       "      <td>b</td>\n",
       "      <td>2</td>\n",
       "      <td>(1, 2, 3)</td>\n",
       "      <td>(b, 2, (1, 2, 3))</td>\n",
       "    </tr>\n",
       "  </tbody>\n",
       "</table>\n",
       "</div>"
      ],
      "text/plain": [
       "   s  p          o                  t\n",
       "3  b  2  (1, 2, 3)  (b, 2, (1, 2, 3))"
      ]
     },
     "execution_count": 37,
     "metadata": {},
     "output_type": "execute_result"
    }
   ],
   "source": [
    "df[(df['s']=='b') & (df['p']==2) & (df['o']==(1, 2, 3))]"
   ]
  },
  {
   "cell_type": "code",
   "execution_count": 45,
   "metadata": {},
   "outputs": [
    {
     "data": {
      "text/html": [
       "<div>\n",
       "<style scoped>\n",
       "    .dataframe tbody tr th:only-of-type {\n",
       "        vertical-align: middle;\n",
       "    }\n",
       "\n",
       "    .dataframe tbody tr th {\n",
       "        vertical-align: top;\n",
       "    }\n",
       "\n",
       "    .dataframe thead th {\n",
       "        text-align: right;\n",
       "    }\n",
       "</style>\n",
       "<table border=\"1\" class=\"dataframe\">\n",
       "  <thead>\n",
       "    <tr style=\"text-align: right;\">\n",
       "      <th></th>\n",
       "      <th>s</th>\n",
       "      <th>p</th>\n",
       "      <th>o</th>\n",
       "      <th>t</th>\n",
       "    </tr>\n",
       "  </thead>\n",
       "  <tbody>\n",
       "    <tr>\n",
       "      <th>3</th>\n",
       "      <td>b</td>\n",
       "      <td>2</td>\n",
       "      <td>(1, 2, 3)</td>\n",
       "      <td>(b, 2, (1, 2, 3))</td>\n",
       "    </tr>\n",
       "  </tbody>\n",
       "</table>\n",
       "</div>"
      ],
      "text/plain": [
       "   s  p          o                  t\n",
       "3  b  2  (1, 2, 3)  (b, 2, (1, 2, 3))"
      ]
     },
     "execution_count": 45,
     "metadata": {},
     "output_type": "execute_result"
    }
   ],
   "source": [
    "needle = [ True ] * len(df)\n",
    "needle &= df['s']=='b'\n",
    "needle &= df['o']==(1, 2, 3)\n",
    "\n",
    "df[needle]"
   ]
  },
  {
   "cell_type": "code",
   "execution_count": 60,
   "metadata": {},
   "outputs": [
    {
     "data": {
      "text/plain": [
       "<http://example.org/will> <http://www.w3.org/1999/02/22-rdf-syntax-ns#type> <http://example.org/Person> .\n",
       "<http://example.org/will> <http://example.org/address> <http://example.org/addr1> .\n",
       "<http://example.org/addr1> <http://example.org/country> \"CA\" .\n",
       "<http://example.org/ed> <http://example.org/ability> <http://example.org/think> .\n",
       "<http://example.org/ed> <http://example.org/address> <http://example.org/addr1> .\n",
       "<http://example.org/ed> <http://example.org/describedAs> <http://example.org/Person> .\n",
       "<http://example.org/el> <http://example.org/ability> <http://example.org/drink> .\n",
       "<http://example.org/el> <http://example.org/address> <http://example.org/addr1> .\n",
       "<http://example.org/el> <http://example.org/describedAs> <http://example.org/Belgian> .\n",
       "<http://example.org/dor> <http://example.org/ability> <http://example.org/think> .\n",
       "<http://example.org/dor> <http://example.org/address> <http://example.org/addr2> .\n",
       "<http://example.org/dor> <http://example.org/describedAs> <http://example.org/German> .\n",
       "<http://example.org/soc> <http://example.org/name> \"Socrates\" .\n",
       "<http://example.org/soc> <http://example.org/address> <http://example.org/addr1> ."
      ]
     },
     "execution_count": 60,
     "metadata": {},
     "output_type": "execute_result"
    }
   ],
   "source": [
    "from n3.parse import parse_n3\n",
    "\n",
    "data = \"\"\"@prefix : <http://example.org/> . \n",
    ":will a :Person ; :address :addr1 . :addr1 :country \"CA\" .\n",
    ":ed :ability :think ; :address :addr1 ; :describedAs :Person .\n",
    ":el :ability :drink ; :address :addr1 ; :describedAs :Belgian .\n",
    ":dor :ability :think ; :address :addr2 ; :describedAs :German .\n",
    ":soc :name \"Socrates\" ; :address :addr1 .\n",
    "\"\"\"\n",
    "\n",
    "data = parse_n3(data).data\n",
    "data"
   ]
  },
  {
   "cell_type": "code",
   "execution_count": 61,
   "metadata": {},
   "outputs": [
    {
     "name": "stdout",
     "output_type": "stream",
     "text": [
      "solution: <http://example.org/will> <http://example.org/address> <http://example.org/addr1> .\n"
     ]
    }
   ],
   "source": [
    "def result_fn(t, _):\n",
    "    print(f\"solution: {t}\")\n",
    "\n",
    "data.find('http://example.org/will', 'http://example.org/address', None, None, result_fn)"
   ]
  }
 ],
 "metadata": {
  "kernelspec": {
   "display_name": "base",
   "language": "python",
   "name": "python3"
  },
  "language_info": {
   "codemirror_mode": {
    "name": "ipython",
    "version": 3
   },
   "file_extension": ".py",
   "mimetype": "text/x-python",
   "name": "python",
   "nbconvert_exporter": "python",
   "pygments_lexer": "ipython3",
   "version": "3.11.5"
  }
 },
 "nbformat": 4,
 "nbformat_minor": 2
}
