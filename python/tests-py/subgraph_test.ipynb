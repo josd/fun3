{
 "cells": [
  {
   "cell_type": "code",
   "execution_count": 4,
   "id": "0d884def",
   "metadata": {},
   "outputs": [],
   "source": [
    "import sys, os\n",
    "sys.path.insert(0, os.path.abspath(\"../\"))\n",
    "from n3.parse import parse_n3"
   ]
  },
  {
   "cell_type": "code",
   "execution_count": 5,
   "id": "4238f0c1",
   "metadata": {},
   "outputs": [
    {
     "data": {
      "text/plain": [
       "{ <http://example.org/Socrates> <http://www.w3.org/1999/02/22-rdf-syntax-ns#type> <http://example.org/Human> .\n",
       "<http://example.org/Plato> <http://example.org/thinks> True .\n",
       "<http://example.org/Plato> <http://example.org/thinks> False } <http://www.w3.org/1999/02/22-rdf-syntax-ns#type> <http://example.org/Statement> ."
      ]
     },
     "execution_count": 5,
     "metadata": {},
     "output_type": "execute_result"
    }
   ],
   "source": [
    "data1 = parse_n3(\"\"\"@prefix : <http://example.org/> .\n",
    "{\n",
    "  :Socrates a :Human .\n",
    "  :Plato :thinks true .\n",
    "  :Plato :thinks false .\n",
    "} a :Statement .\"\"\").data\n",
    "data1"
   ]
  },
  {
   "cell_type": "code",
   "execution_count": 6,
   "id": "7bd8c335",
   "metadata": {},
   "outputs": [
    {
     "data": {
      "text/plain": [
       "{ ?S <http://example.org/thinks> ?t .\n",
       "?S <http://example.org/thinks> ?f .\n",
       "?P <http://www.w3.org/1999/02/22-rdf-syntax-ns#type> <http://example.org/Human> } <http://www.w3.org/1999/02/22-rdf-syntax-ns#type> <http://example.org/Statement> ."
      ]
     },
     "execution_count": 6,
     "metadata": {},
     "output_type": "execute_result"
    }
   ],
   "source": [
    "data2 = parse_n3(\"\"\"@prefix : <http://example.org/> .\n",
    "{\n",
    "    ?S :thinks ?t .\n",
    "    ?S :thinks ?f .\n",
    "    ?P a :Human .\n",
    "} a :Statement .\"\"\").data\n",
    "data2"
   ]
  },
  {
   "cell_type": "code",
   "execution_count": 16,
   "id": "f608d253",
   "metadata": {},
   "outputs": [],
   "source": [
    "def check_binding(var_node, other, bindings):\n",
    "    if var_node.var_id in bindings:\n",
    "        return bindings[var_node.var_id] == other.idx_val()\n",
    "    bindings[var_node.var_id] = other.idx_val()\n",
    "    return True\n",
    "\n",
    "def match_terms(term1, term2, bindings):\n",
    "    if term1.is_concrete():\n",
    "        if term2.is_concrete():\n",
    "            ret = term1 == term2\n",
    "        else:\n",
    "            ret = check_binding(term2, term1, bindings)\n",
    "    else:\n",
    "        if term2.is_concrete():\n",
    "            ret = check_binding(term1, term2, bindings)\n",
    "        else: # doesnt' have to be same variable\n",
    "            ret = True\n",
    "\n",
    "    # print(term1, term2, ret)\n",
    "    return ret\n",
    "    \n",
    "def match_tp(tp1, tp2, bindings):\n",
    "    return match_terms(tp1.s, tp2.s, bindings) and match_terms(tp1.p, tp2.p, bindings) and match_terms(tp1.o, tp2.o, bindings)"
   ]
  },
  {
   "cell_type": "code",
   "execution_count": 13,
   "id": "d8375872",
   "metadata": {},
   "outputs": [],
   "source": [
    "def match(graph1, idx1, graph2, bindings):\n",
    "    if idx1 == len(graph1):\n",
    "        print(bindings)\n",
    "        return\n",
    "    \n",
    "    tp1 = graph1.triple_at(idx1)\n",
    "    \n",
    "    for tp2 in graph2.triples():\n",
    "        bindings2 = bindings.copy()\n",
    "        # print(tp1, \"<>\", tp2, match_tp(tp1, tp2, bindings2))\n",
    "        if match_tp(tp1, tp2, bindings2):\n",
    "            match(graph1, idx1 + 1, graph2, bindings2)"
   ]
  },
  {
   "cell_type": "code",
   "execution_count": 17,
   "id": "dc461d4f",
   "metadata": {},
   "outputs": [
    {
     "name": "stdout",
     "output_type": "stream",
     "text": [
      "{'P': 'http://example.org/Socrates', 'S': 'http://example.org/Plato', 't': True, 'f': False}\n",
      "{'P': 'http://example.org/Socrates', 'S': 'http://example.org/Plato', 'f': True, 't': False}\n"
     ]
    }
   ],
   "source": [
    "graph1 = data1.triple_at(0).s.model\n",
    "graph2 = data2.triple_at(0).s.model\n",
    "\n",
    "match(graph1, 0, graph2, {})"
   ]
  }
 ],
 "metadata": {
  "kernelspec": {
   "display_name": "base",
   "language": "python",
   "name": "python3"
  },
  "language_info": {
   "codemirror_mode": {
    "name": "ipython",
    "version": 3
   },
   "file_extension": ".py",
   "mimetype": "text/x-python",
   "name": "python",
   "nbconvert_exporter": "python",
   "pygments_lexer": "ipython3",
   "version": "3.11.5"
  }
 },
 "nbformat": 4,
 "nbformat_minor": 5
}
