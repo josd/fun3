{
 "cells": [
  {
   "cell_type": "code",
   "execution_count": 1,
   "metadata": {},
   "outputs": [
    {
     "data": {
      "text/plain": [
       "<Graph identifier=N3cd3d5a67ba44fd59036725e004f8149 (<class 'rdflib.graph.Graph'>)>"
      ]
     },
     "execution_count": 1,
     "metadata": {},
     "output_type": "execute_result"
    }
   ],
   "source": [
    "from rdflib import Graph\n",
    "\n",
    "g = Graph()\n",
    "g.parse(\"file:///Users/wvw/git/bsbm/datasets/dataset-1.ttl\", format=\"n3\")"
   ]
  },
  {
   "cell_type": "code",
   "execution_count": null,
   "metadata": {},
   "outputs": [
    {
     "data": {
      "text/plain": [
       "<n3.parse.n3ParseResult at 0x3130ab1d0>"
      ]
     },
     "execution_count": 4,
     "metadata": {},
     "output_type": "execute_result"
    }
   ],
   "source": [
    "import sys, pathlib\n",
    "sys.path.insert(0, str(pathlib.Path(\"/Users/wvw/git/n3/fun3/python\").resolve()))\n",
    "from n3.parse import parse_n3_file\n",
    "\n",
    "# checkout\n",
    "# https://github.com/RDFLib/rdflib/blob/main/rdflib/plugins/parsers/notation3.py\n",
    "\n",
    "# from cProfile import Profile\n",
    "# from pstats import SortKey, Stats\n",
    "\n",
    "# with Profile() as profile:\n",
    "res = parse_n3_file(\"/Users/wvw/git/bsbm/datasets/dataset-1.ttl\")\n",
    "    # (\n",
    "    #     Stats(profile)\n",
    "    #     .strip_dirs()\n",
    "    #     .sort_stats(SortKey.CUMULATIVE)\n",
    "    #     .print_stats()\n",
    "    # )"
   ]
  },
  {
   "cell_type": "code",
   "execution_count": null,
   "metadata": {},
   "outputs": [],
   "source": [
    "from rdflib import RDF, URIRef\n",
    "for s, p, o in g.triples((None, RDF.type, URIRef(\"http://xmlns.com/foaf/0.1/Person\"))):\n",
    "    print(s, p, o)"
   ]
  }
 ],
 "metadata": {
  "kernelspec": {
   "display_name": "base",
   "language": "python",
   "name": "python3"
  },
  "language_info": {
   "codemirror_mode": {
    "name": "ipython",
    "version": 3
   },
   "file_extension": ".py",
   "mimetype": "text/x-python",
   "name": "python",
   "nbconvert_exporter": "python",
   "pygments_lexer": "ipython3",
   "version": "3.11.5"
  }
 },
 "nbformat": 4,
 "nbformat_minor": 2
}
