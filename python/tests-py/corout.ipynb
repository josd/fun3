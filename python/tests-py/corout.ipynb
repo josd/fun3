{
 "cells": [
  {
   "cell_type": "code",
   "execution_count": 33,
   "id": "762ed2f4",
   "metadata": {},
   "outputs": [],
   "source": [
    "def test(a, b, c):\n",
    "    # if a == 1:\n",
    "    print(\"got here\")\n",
    "    while True:\n",
    "        msg = (yield)\n",
    "        print(msg)\n",
    "    # yield 1\n",
    "    #     print(msg)\n",
    "    # else:\n",
    "    #     yield b"
   ]
  },
  {
   "cell_type": "code",
   "execution_count": 35,
   "id": "da632380",
   "metadata": {},
   "outputs": [
    {
     "name": "stdout",
     "output_type": "stream",
     "text": [
      "got here\n",
      "hello\n",
      "world\n"
     ]
    }
   ],
   "source": [
    "tst = test(1, 2, 3)\n",
    "tst.__next__()\n",
    "tst.send(\"hello\")\n",
    "tst.send(\"world\")"
   ]
  },
  {
   "cell_type": "code",
   "execution_count": 5,
   "id": "5d06052f",
   "metadata": {},
   "outputs": [
    {
     "name": "stdout",
     "output_type": "stream",
     "text": [
      "got: something\n",
      "got: None\n",
      "got: None\n",
      "hello hello hello 0.00024509429931640625\n",
      "world\n"
     ]
    }
   ],
   "source": [
    "import asyncio\n",
    "import time\n",
    "\n",
    "async def gen():\n",
    "    try:\n",
    "        while True:\n",
    "            # await asyncio.sleep(0.1)\n",
    "            value = yield 'hello'\n",
    "            print(\"got:\", value) \n",
    "    except ZeroDivisionError:\n",
    "        await asyncio.sleep(0.2)\n",
    "        yield 'world'\n",
    "\n",
    "\n",
    "async def main():\n",
    "    now = time.time()\n",
    "    g = gen()\n",
    "    v = await g.asend(None)\n",
    "    v = await g.asend('something')\n",
    "    b = await g.asend(None)\n",
    "    c = await g.asend(None)\n",
    "    print(v,b,c, time.time() - now) \n",
    "\n",
    "    v = await g.athrow(ZeroDivisionError)\n",
    "    print(v)\n",
    "\n",
    "\n",
    "await main()"
   ]
  },
  {
   "cell_type": "code",
   "execution_count": null,
   "id": "9388f5b8",
   "metadata": {},
   "outputs": [],
   "source": [
    "# Python3 program for demonstrating\n",
    "# coroutine chaining\n",
    "\n",
    "def producer(sentence, next_coroutine):\n",
    "    '''\n",
    "    Producer which just split strings and\n",
    "    feed it to pattern_filter coroutine\n",
    "    '''\n",
    "    tokens = sentence.split(\" \")\n",
    "    for token in tokens:\n",
    "        next_coroutine.send(token)\n",
    "    next_coroutine.close()\n",
    "\n",
    "def pattern_filter(pattern=\"ing\", next_coroutine=None):\n",
    "    '''\n",
    "    Search for pattern in received token \n",
    "    and if pattern got matched, send it to\n",
    "    print_token() coroutine for printing\n",
    "    '''\n",
    "    print(\"Searching for {}\".format(pattern))\n",
    "    try:\n",
    "        while True:\n",
    "            token = (yield)\n",
    "            if pattern in token:\n",
    "                next_coroutine.send(token)\n",
    "    except GeneratorExit:\n",
    "        print(\"Done with filtering!!\")\n",
    "        next_coroutine.close()\n",
    "\n",
    "def print_token():\n",
    "    '''\n",
    "    Act as a sink, simply print the\n",
    "    received tokens\n",
    "    '''\n",
    "    print(\"I'm sink, i'll print tokens\")\n",
    "    try:\n",
    "        while True:\n",
    "            token = (yield)\n",
    "            print(token)\n",
    "    except GeneratorExit:\n",
    "        print(\"Done with printing!\")\n",
    "\n",
    "pt = print_token()\n",
    "pt.__next__()\n",
    "pf = pattern_filter(next_coroutine = pt)\n",
    "pf.__next__()\n",
    "\n",
    "sentence = \"Bob is running behind a fast moving car\"\n",
    "producer(sentence, pf)"
   ]
  }
 ],
 "metadata": {
  "kernelspec": {
   "display_name": "base",
   "language": "python",
   "name": "python3"
  },
  "language_info": {
   "codemirror_mode": {
    "name": "ipython",
    "version": 3
   },
   "file_extension": ".py",
   "mimetype": "text/x-python",
   "name": "python",
   "nbconvert_exporter": "python",
   "pygments_lexer": "ipython3",
   "version": "3.11.5"
  }
 },
 "nbformat": 4,
 "nbformat_minor": 5
}
