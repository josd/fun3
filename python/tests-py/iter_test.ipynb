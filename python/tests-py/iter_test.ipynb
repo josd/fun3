{
 "cells": [
  {
   "cell_type": "code",
   "execution_count": 2,
   "id": "664686b9",
   "metadata": {},
   "outputs": [],
   "source": [
    "import sys, pathlib\n",
    "sys.path.insert(0, str(pathlib.Path(\"/Users/wvw/git/n3/fun3/python\").resolve()))\n",
    "from n3.parse import parse_n3"
   ]
  },
  {
   "cell_type": "code",
   "execution_count": 7,
   "id": "2c03f9cd",
   "metadata": {},
   "outputs": [],
   "source": [
    "res = parse_n3(\"\"\"\n",
    "@prefix : <http://example.org/> .\n",
    "{ :a :b :c . :d :e :f } :q :y .\n",
    "( 1 2 ) :q :y .\n",
    "\"\"\")"
   ]
  },
  {
   "cell_type": "code",
   "execution_count": 8,
   "id": "a712ac56",
   "metadata": {},
   "outputs": [
    {
     "name": "stdout",
     "output_type": "stream",
     "text": [
      "type: Terms.GRAPH\n",
      "len: 2\n",
      "<http://example.org/a>\n",
      "<http://example.org/b>\n",
      "<http://example.org/c>\n",
      "<http://example.org/d>\n",
      "<http://example.org/e>\n",
      "<http://example.org/f>\n",
      "type: Terms.COLLECTION\n",
      "len: 2\n",
      "1\n",
      "2\n",
      "False\n"
     ]
    }
   ],
   "source": [
    "from n3.objects import GraphTerm\n",
    "\n",
    "# gt = GraphTerm(model=res.data)\n",
    "\n",
    "gt = res.data.triple_at(0).s\n",
    "print(\"type:\", gt.type())\n",
    "print(\"len:\", len(gt))\n",
    "for t in gt.iter_terms():\n",
    "    print(t)\n",
    "    \n",
    "coll = res.data.triple_at(1).s\n",
    "print(\"type:\", coll.type())\n",
    "print(\"len:\", len(coll))\n",
    "for t in coll.iter_terms():\n",
    "    print(t)\n",
    "    \n",
    "print(gt == coll)"
   ]
  }
 ],
 "metadata": {
  "kernelspec": {
   "display_name": "base",
   "language": "python",
   "name": "python3"
  },
  "language_info": {
   "codemirror_mode": {
    "name": "ipython",
    "version": 3
   },
   "file_extension": ".py",
   "mimetype": "text/x-python",
   "name": "python",
   "nbconvert_exporter": "python",
   "pygments_lexer": "ipython3",
   "version": "3.11.5"
  }
 },
 "nbformat": 4,
 "nbformat_minor": 5
}
