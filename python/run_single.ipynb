{
 "cells": [
  {
   "cell_type": "code",
   "execution_count": 2,
   "id": "4ee9853e",
   "metadata": {},
   "outputs": [],
   "source": [
    "from ast import dump, unparse, parse\n",
    "from n3.ns import xsdNs\n",
    "from n3.to_py import run_py, save_py"
   ]
  },
  {
   "cell_type": "code",
   "execution_count": 3,
   "id": "c39e8dd0",
   "metadata": {},
   "outputs": [],
   "source": [
    "def do_fun3(rules_str, query_str, data_str):\n",
    "    # 1/ save code\n",
    "    save_py(query_str, rules_str, data_str, \"code_out.py\")\n",
    "    \n",
    "    # 2/ run a rule fn\n",
    "    # print(run_py(query_str, rules_str, data_str))"
   ]
  },
  {
   "cell_type": "code",
   "execution_count": null,
   "id": "09b704e4",
   "metadata": {},
   "outputs": [],
   "source": [
    "# - given input strings\n",
    "\n",
    "rules_str = \"\"\"@prefix : <http://example.org/> . \n",
    "...\"\"\"\n",
    "\n",
    "query_str = \"\"\"@prefix : <http://example.org/> .\n",
    "...\n",
    "\"\"\"\n",
    "\n",
    "data_str = \"\"\"@prefix : <http://example.org/> . \n",
    "...\n",
    "\"\"\"\n",
    "\n",
    "do_fun3(rules_str, query_str, data_str)"
   ]
  },
  {
   "cell_type": "code",
   "execution_count": null,
   "id": "64a74809",
   "metadata": {},
   "outputs": [],
   "source": [
    "# - given input paths\n",
    "\n",
    "rules_path = \"\" \n",
    "query_path = \"\"\n",
    "data_path = \"\"\n",
    "with open(rules_path) as rules_fh, open(query_path) as query_fh, open(data_path) as data_fh:\n",
    "    rules_str = rules_fh.read(); query_str = query_fh.read(); data_str = data_fh.read()\n",
    "\n",
    "    do_fun3(rules_str, query_str, data_str)"
   ]
  },
  {
   "cell_type": "code",
   "execution_count": null,
   "id": "57867054",
   "metadata": {},
   "outputs": [],
   "source": [
    "# test AST\n",
    "\n",
    "# print(dump(parse(\"\"\"a = 'abc'\"\"\")))"
   ]
  }
 ],
 "metadata": {
  "kernelspec": {
   "display_name": "base",
   "language": "python",
   "name": "python3"
  },
  "language_info": {
   "codemirror_mode": {
    "name": "ipython",
    "version": 3
   },
   "file_extension": ".py",
   "mimetype": "text/x-python",
   "name": "python",
   "nbconvert_exporter": "python",
   "pygments_lexer": "ipython3",
   "version": "3.11.5"
  }
 },
 "nbformat": 4,
 "nbformat_minor": 5
}
