{
 "cells": [
  {
   "cell_type": "code",
   "execution_count": null,
   "id": "4ee9853e",
   "metadata": {},
   "outputs": [],
   "source": [
    "from pathlib import Path\n",
    "from ast import dump, unparse, parse\n",
    "from n3.ns import xsdNs\n",
    "from n3.to_py import run_py, save_py"
   ]
  },
  {
   "cell_type": "code",
   "execution_count": null,
   "id": "c39e8dd0",
   "metadata": {},
   "outputs": [],
   "source": [
    "def do_fun3(rules, query, data):\n",
    "    # 1/ save code\n",
    "    save_py(query, rules, data, \"code_out.py\")\n",
    "    \n",
    "    # 2/ run a rule fn\n",
    "    # print(run_py(query, rules, data))"
   ]
  },
  {
   "cell_type": "code",
   "execution_count": null,
   "id": "09b704e4",
   "metadata": {},
   "outputs": [],
   "source": [
    "# - given input strings\n",
    "\n",
    "rules_str = \"\"\"@prefix : <http://example.org/> . \n",
    "...\"\"\"\n",
    "\n",
    "query_str = \"\"\"@prefix : <http://example.org/> .\n",
    "...\n",
    "\"\"\"\n",
    "\n",
    "data_str = \"\"\"@prefix : <http://example.org/> . \n",
    "...\n",
    "\"\"\"\n",
    "\n",
    "do_fun3(rules_str, query_str, data_str)"
   ]
  },
  {
   "cell_type": "code",
   "execution_count": null,
   "id": "64a74809",
   "metadata": {},
   "outputs": [],
   "source": [
    "# - given input paths\n",
    "\n",
    "rules_path = \"\" \n",
    "query_path = \"\"\n",
    "data_path = \"\"\n",
    "\n",
    "do_fun3(Path(rules_path), Path(query_path), Path(data_path))"
   ]
  },
  {
   "cell_type": "code",
   "execution_count": null,
   "id": "57867054",
   "metadata": {},
   "outputs": [],
   "source": [
    "# test AST\n",
    "\n",
    "# print(dump(parse(\"\"\"a = 'abc'\"\"\")))"
   ]
  }
 ],
 "metadata": {
  "kernelspec": {
   "display_name": "base",
   "language": "python",
   "name": "python3"
  },
  "language_info": {
   "codemirror_mode": {
    "name": "ipython",
    "version": 3
   },
   "file_extension": ".py",
   "mimetype": "text/x-python",
   "name": "python",
   "nbconvert_exporter": "python",
   "pygments_lexer": "ipython3",
   "version": "3.11.5"
  }
 },
 "nbformat": 4,
 "nbformat_minor": 5
}
