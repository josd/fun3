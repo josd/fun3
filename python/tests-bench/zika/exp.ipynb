{
 "cells": [
  {
   "cell_type": "markdown",
   "id": "80a341ed",
   "metadata": {},
   "source": [
    "# Auxilliary"
   ]
  },
  {
   "cell_type": "code",
   "execution_count": null,
   "id": "30295e69",
   "metadata": {},
   "outputs": [
    {
     "name": "stdout",
     "output_type": "stream",
     "text": [
      "<module 'posixpath' (frozen)>\n"
     ]
    }
   ],
   "source": [
    "import os\n",
    "from exp import runNSave"
   ]
  },
  {
   "cell_type": "markdown",
   "id": "76515f47",
   "metadata": {},
   "source": [
    "# eye"
   ]
  },
  {
   "cell_type": "code",
   "execution_count": null,
   "id": "01680bfa",
   "metadata": {},
   "outputs": [],
   "source": [
    "path = \".\"\n",
    "\n",
    "times_file = os.path.join(path, \"red\", \"results\", \"times_eye.csv\")\n",
    "exists = os.path.exists(times_file)\n",
    "times_fh = open(times_file, 'a')\n",
    "if not exists:\n",
    "    times_fh.write(\"run,query,data,netw_time,reas_time\\n\")\n",
    "\n",
    "nr_runs = 1\n",
    "query_file = os.path.join(path, \"query_eye.n3\")\n",
    "rules_file = os.path.join(path, \"red\", \"rules_red.n3\")\n",
    "data_file = os.path.join(path, \"red\", \"data_red_0pt2_mini.n3\")\n",
    "res_file = os.path.join(path, \"red\", \"results\", \"eye.n3\")\n",
    "\n",
    "for run in range(0, nr_runs):\n",
    "    print(\"run:\", run)\n",
    "    \n",
    "    rules_name = os.path.basename(rules_file)\n",
    "    data_name = os.path.basename(data_file)\n",
    "    \n",
    "    netw_time, reas_time = runNSave([\"eye\", rules_file, data_file , \"--query\", query_file, \"--nope\"], res_file)\n",
    "    record_eye(times_fh, run, rules_name, data_name, netw_time, reas_time)\n",
    "    \n",
    "times_fh.close()"
   ]
  },
  {
   "cell_type": "markdown",
   "id": "05891fce",
   "metadata": {},
   "source": [
    "# fun3"
   ]
  },
  {
   "cell_type": "code",
   "execution_count": 2,
   "id": "c96ae3d2",
   "metadata": {},
   "outputs": [],
   "source": [
    "from pathlib import Path\n",
    "import sys\n",
    "sys.path.insert(0, \"../../\")\n",
    "from n3.to_py import run_py, save_py"
   ]
  },
  {
   "cell_type": "code",
   "execution_count": 9,
   "id": "ed8baab9",
   "metadata": {},
   "outputs": [],
   "source": [
    "path = \".\"\n",
    "\n",
    "nr_runs = 1\n",
    "query_file = os.path.join(path, \"query.n3\")\n",
    "rules_file = os.path.join(path, \"red\", \"rules_red.n3\")\n",
    "data_file = os.path.join(path, \"red\", \"data_red_0pt2_mini.n3\")\n",
    "code_file = os.path.join(path, \"red\", \"results\", \"code_out.py\")\n",
    "res_file = os.path.join(path, \"red\", \"results\", \"fun3.n3\")\n",
    "\n",
    "save_py(Path(query_file), Path(rules_file), Path(data_file), code_file, print_code=False, code_dir=\"../../../..\")\n",
    "# run_py(Path(rules_file), Path(query_file), Path(data_file))"
   ]
  }
 ],
 "metadata": {
  "kernelspec": {
   "display_name": "base",
   "language": "python",
   "name": "python3"
  },
  "language_info": {
   "codemirror_mode": {
    "name": "ipython",
    "version": 3
   },
   "file_extension": ".py",
   "mimetype": "text/x-python",
   "name": "python",
   "nbconvert_exporter": "python",
   "pygments_lexer": "ipython3",
   "version": "3.11.5"
  }
 },
 "nbformat": 4,
 "nbformat_minor": 5
}
